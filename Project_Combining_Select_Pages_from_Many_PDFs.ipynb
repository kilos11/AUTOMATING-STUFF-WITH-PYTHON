{
  "cells": [
    {
      "cell_type": "markdown",
      "metadata": {
        "id": "view-in-github",
        "colab_type": "text"
      },
      "source": [
        "<a href=\"https://colab.research.google.com/github/kilos11/AUTOMATING-STUFF-WITH-PYTHON/blob/main/Project_Combining_Select_Pages_from_Many_PDFs.ipynb\" target=\"_parent\"><img src=\"https://colab.research.google.com/assets/colab-badge.svg\" alt=\"Open In Colab\"/></a>"
      ]
    },
    {
      "cell_type": "code",
      "execution_count": null,
      "metadata": {
        "id": "yXy8m-LekR7A"
      },
      "outputs": [],
      "source": []
    },
    {
      "cell_type": "markdown",
      "metadata": {
        "id": "UWTogrexl4OR"
      },
      "source": [
        "#**Combining Select Pages from Many PDFs**#\n",
        "##Say you have the boring job of merging several dozen PDF documents into a single PDF file. Each of them has a cover sheet as the first page, but you don’t want the cover sheet repeated in the final result. Even though there are lots of free programs for combining PDFs, many of them simply merge entire files together. Let’s write a Python program to customize which pages you want in the combined PDF.\n",
        "\n",
        "##At a high level, here’s what the program will do:\n",
        "\n",
        "##**Find all PDF files in the current working directory.*\n",
        "##**Sort the filenames so the PDFs are added in order.*\n",
        "##**Write each page, excluding the first page, of each PDF to the output file.*\n",
        "##In terms of implementation, your code will need to do the following:\n",
        "\n",
        "##**Call os.listdir() to find all the files in the working directory and remove any non-PDF files.*\n",
        "##**Call Python’s sort() list method to alphabetize the filenames.*\n",
        "##**Create a PdfFileWriter object for the output PDF.*\n",
        "##**Loop over each PDF file, creating a PdfFileReader object for it.*\n",
        "##**Loop over each page (except the first) in each PDF file.*\n",
        "##**Add the pages to the output PDF.*\n",
        "##**Write the output PDF to a file named allminutes.pdf.*"
      ]
    },
    {
      "cell_type": "markdown",
      "metadata": {
        "id": "jW4QqtL7nEJP"
      },
      "source": [
        "#**Step 1: Find All PDF Files**#"
      ]
    },
    {
      "cell_type": "code",
      "execution_count": null,
      "metadata": {
        "colab": {
          "base_uri": "https://localhost:8080/"
        },
        "id": "DfmDdaNVotIQ",
        "outputId": "5e101040-69c4-45d9-f24f-8ffbe6863f6e"
      },
      "outputs": [
        {
          "name": "stdout",
          "output_type": "stream",
          "text": [
            "Collecting PyPDF2\n",
            "  Downloading pypdf2-3.0.1-py3-none-any.whl (232 kB)\n",
            "\u001b[?25l     \u001b[90m━━━━━━━━━━━━━━━━━━━━━━━━━━━━━━━━━━━━━━━━\u001b[0m \u001b[32m0.0/232.6 kB\u001b[0m \u001b[31m?\u001b[0m eta \u001b[36m-:--:--\u001b[0m\r\u001b[2K     \u001b[91m━━━━━━━━━━━━━━━━━━━━━━━━━━━━━━━━━━━━━━\u001b[0m\u001b[91m╸\u001b[0m\u001b[90m━\u001b[0m \u001b[32m225.3/232.6 kB\u001b[0m \u001b[31m7.1 MB/s\u001b[0m eta \u001b[36m0:00:01\u001b[0m\r\u001b[2K     \u001b[90m━━━━━━━━━━━━━━━━━━━━━━━━━━━━━━━━━━━━━━━━\u001b[0m \u001b[32m232.6/232.6 kB\u001b[0m \u001b[31m5.4 MB/s\u001b[0m eta \u001b[36m0:00:00\u001b[0m\n",
            "\u001b[?25hInstalling collected packages: PyPDF2\n",
            "Successfully installed PyPDF2-3.0.1\n"
          ]
        }
      ],
      "source": [
        "!pip install PyPDF2"
      ]
    },
    {
      "cell_type": "code",
      "execution_count": null,
      "metadata": {
        "id": "mtqzOCGNnP0k"
      },
      "outputs": [],
      "source": [
        "# combinePdfs.py - Combines all the PDFs in the current working directory into\n",
        "# into a single PDF\n",
        "import PyPDF2, os\n",
        "\n",
        "# Get all the PDF filenames.\n",
        "pdfFiles = []\n",
        "\n",
        "for filename in os.listdir('.'):\n",
        "    if filename.endswith('.pdf'):\n",
        "        pdfFiles.append(filename)\n",
        "pdfFiles.sort(key = str.lower)\n",
        "pdfWriter = PyPDF2.PdfWriter()\n"
      ]
    },
    {
      "cell_type": "markdown",
      "metadata": {
        "id": "OG6KZ5KCpZuZ"
      },
      "source": [
        "##After the shebang line and the descriptive comment about what the program does, this code imports the os and PyPDF2 modules ➊. The os.listdir('.') call will return a list of every file in the current working directory. The code loops over this list and adds only those files with the .pdf extension to pdfFiles ➋. Afterward, this list is sorted in alphabetical order with the key = str.lower keyword argument to sort() ➌.\n",
        "\n",
        "##A PdfFileWriter object is created to hold the combined PDF pages"
      ]
    },
    {
      "cell_type": "markdown",
      "metadata": {
        "id": "ehzggDZIpncX"
      },
      "source": [
        "#**Step 2: Open Each PDF**#\n",
        "##For each PDF, the loop opens a filename in read-binary mode by calling open() with 'rb' as the second argument. The open() call returns a File object, which gets passed to PyPDF2.PdfFileReader() to create a PdfFileReader object for that PDF file.\n",
        "\n",
        "Step 3: Add Each Page"
      ]
    },
    {
      "cell_type": "code",
      "execution_count": null,
      "metadata": {
        "id": "6-0r1Vj6pzaP"
      },
      "outputs": [],
      "source": [
        "import PyPDF2, os\n",
        "\n",
        "pdfFiles = []\n",
        "\n",
        "# Loop through all the PDF files.\n",
        "for filename in pdfFiles:\n",
        "    pdfFileObj = open(filename, 'rb')\n",
        "    pdfReader = PyPDF2.PdfReader(pdfFileObj)\n"
      ]
    },
    {
      "cell_type": "markdown",
      "metadata": {
        "id": "VR0N8A1grPtg"
      },
      "source": [
        "#**Step 3: Add Each Page**#\n",
        "##The code inside the for loop copies each Page object individually to the PdfFileWriter object. Remember, you want to skip the first page. Since PyPDF2 considers 0 to be the first page, your loop should start at 1 ➊ and then go up to, but not include, the integer in pdfReader.numPages."
      ]
    },
    {
      "cell_type": "code",
      "execution_count": null,
      "metadata": {
        "id": "VoFvGbhMrY6j"
      },
      "outputs": [],
      "source": [
        "import PyPDF2, os\n",
        "\n",
        "# Loop through all the PDF files.\n",
        "for filename in pdfFiles:\n",
        "    # Loop through all the pages (except the first) and add them.\n",
        "    for pageNum in range(1, len(pdfReader.pages)):\n",
        "        pageObj = pdfReader.getPage(pageNum)\n",
        "        pdfWriter.addPage(pageObj)"
      ]
    },
    {
      "cell_type": "markdown",
      "metadata": {
        "id": "VpcPgIkJs4vh"
      },
      "source": [
        "#**Step 4: Save the Results**#\n",
        "##After these nested for loops are done looping, the pdfWriter variable will contain a PdfFileWriter object with the pages for all the PDFs combined. The last step is to write this content to a file on the hard drive."
      ]
    },
    {
      "cell_type": "code",
      "execution_count": null,
      "metadata": {
        "colab": {
          "background_save": true,
          "base_uri": "https://localhost:8080/",
          "height": 385
        },
        "id": "UqwiD1dVtFCh",
        "outputId": "3eb36dc6-7dd1-4379-9625-e932fc30ec2d"
      },
      "outputs": [
        {
          "ename": "NameError",
          "evalue": "name 'pdfFiles' is not defined",
          "output_type": "error",
          "traceback": [
            "\u001b[0;31m---------------------------------------------------------------------------\u001b[0m",
            "\u001b[0;31mNameError\u001b[0m                                 Traceback (most recent call last)",
            "\u001b[0;32m<ipython-input-3-9aba27f32276>\u001b[0m in \u001b[0;36m<cell line: 4>\u001b[0;34m()\u001b[0m\n\u001b[1;32m      2\u001b[0m \u001b[0;34m\u001b[0m\u001b[0m\n\u001b[1;32m      3\u001b[0m \u001b[0;31m# Loop through all the PDF files.\u001b[0m\u001b[0;34m\u001b[0m\u001b[0;34m\u001b[0m\u001b[0m\n\u001b[0;32m----> 4\u001b[0;31m \u001b[0;32mfor\u001b[0m \u001b[0mfilename\u001b[0m \u001b[0;32min\u001b[0m \u001b[0mpdfFiles\u001b[0m\u001b[0;34m:\u001b[0m\u001b[0;34m\u001b[0m\u001b[0;34m\u001b[0m\u001b[0m\n\u001b[0m\u001b[1;32m      5\u001b[0m     \u001b[0;31m# Loop through all the pages (except the first) and add them.\u001b[0m\u001b[0;34m\u001b[0m\u001b[0;34m\u001b[0m\u001b[0m\n\u001b[1;32m      6\u001b[0m     \u001b[0;32mfor\u001b[0m \u001b[0mpageNum\u001b[0m \u001b[0;32min\u001b[0m \u001b[0mrange\u001b[0m\u001b[0;34m(\u001b[0m\u001b[0;36m1\u001b[0m\u001b[0;34m,\u001b[0m \u001b[0mpdfReader\u001b[0m\u001b[0;34m.\u001b[0m\u001b[0mnumPages\u001b[0m\u001b[0;34m)\u001b[0m\u001b[0;34m:\u001b[0m\u001b[0;34m\u001b[0m\u001b[0;34m\u001b[0m\u001b[0m\n",
            "\u001b[0;31mNameError\u001b[0m: name 'pdfFiles' is not defined"
          ]
        }
      ],
      "source": [
        "import PyPDF2, os\n",
        "\n",
        "# Loop through all the PDF files.\n",
        "for filename in pdfFiles:\n",
        "    # Loop through all the pages (except the first) and add them.\n",
        "    for pageNum in range(1, pdfReader.numPages):\n",
        "        # Save the resulting PDF to a file.\n",
        "        pdfOutput = open('allminutes.pdf', 'wb')\n",
        "        pdfWriter.write(pdfOutput)\n",
        "        pdfOutput.close()"
      ]
    }
  ],
  "metadata": {
    "colab": {
      "provenance": [],
      "authorship_tag": "ABX9TyO3FUJL7q9nRKPHQMSV1f9J",
      "include_colab_link": true
    },
    "kernelspec": {
      "display_name": "Python 3",
      "name": "python3"
    },
    "language_info": {
      "name": "python"
    }
  },
  "nbformat": 4,
  "nbformat_minor": 0
}