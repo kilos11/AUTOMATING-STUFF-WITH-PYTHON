{
  "nbformat": 4,
  "nbformat_minor": 0,
  "metadata": {
    "colab": {
      "provenance": [],
      "authorship_tag": "ABX9TyPTLgFzASaPhc7KcKx0+Oxj",
      "include_colab_link": true
    },
    "kernelspec": {
      "name": "python3",
      "display_name": "Python 3"
    },
    "language_info": {
      "name": "python"
    }
  },
  "cells": [
    {
      "cell_type": "markdown",
      "metadata": {
        "id": "view-in-github",
        "colab_type": "text"
      },
      "source": [
        "<a href=\"https://colab.research.google.com/github/kilos11/AUTOMATING-STUFF-WITH-PYTHON/blob/main/Merging_and_Unmerging_Cells.ipynb\" target=\"_parent\"><img src=\"https://colab.research.google.com/assets/colab-badge.svg\" alt=\"Open In Colab\"/></a>"
      ]
    },
    {
      "cell_type": "markdown",
      "source": [
        "#A rectangular area of cells can be merged into a single cell with the merge_cells() sheet method.\n",
        "#The argument to merge_cells() is a single string of the top-left and bottom-right cells of the rectangular area to be merged: 'A1:D3' merges 12 cells into a single cell. To set the value of these merged cells, simply set the value of the top-left cell of the merged group."
      ],
      "metadata": {
        "id": "e6fOcuoIS0Fx"
      }
    },
    {
      "cell_type": "code",
      "execution_count": 1,
      "metadata": {
        "id": "G-qY9hZsStMB"
      },
      "outputs": [],
      "source": [
        "import openpyxl\n",
        "\n",
        "wb = openpyxl.Workbook()\n",
        "sheet = wb.active\n",
        "sheet.merge_cells('A1:D3') # Merge all these cells.\n",
        "sheet['A1'] = 'Twelve cells merged together.'\n",
        "sheet['C5'] = 'Two merged cells.'\n",
        "wb.save('merged.xlsx')"
      ]
    }
  ]
}